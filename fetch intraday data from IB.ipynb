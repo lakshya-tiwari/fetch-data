{
 "cells": [
  {
   "cell_type": "code",
   "execution_count": 1,
   "id": "9e812f86",
   "metadata": {},
   "outputs": [],
   "source": [
    "import pandas as pd\n",
    "import numpy as np\n",
    "\n",
    "from ibapi.client import EClient\n",
    "from ibapi.wrapper import EWrapper\n",
    "from ibapi.contract import Contract\n",
    "\n",
    "import threading\n",
    "import time\n"
   ]
  },
  {
   "cell_type": "code",
   "execution_count": 2,
   "id": "9b02eeb4",
   "metadata": {},
   "outputs": [],
   "source": [
    "class IBapi(EWrapper, EClient):\n",
    "    def __init__(self):\n",
    "        EClient.__init__(self, self)\n",
    "        \n",
    "        self.data =  pd.DataFrame(columns=[\"Date\", \"Open\", \"High\", \"Low\", \"Close\",'Volume'])\n",
    "        \n",
    "    def historicalData(self, reqId, bar): \n",
    "\n",
    "        df = pd.DataFrame([[bar.date, bar.open, bar.high, bar.low, bar.close, bar.volume]],\n",
    "                          columns=[\"Date\", \"Open\", \"High\", \"Low\", \"Close\", \"Volume\"])\n",
    "        if bar.date not in list(self.data.Date):\n",
    "            self.data = pd.concat([self.data,df])\n",
    "            self.data.reset_index(drop=True,inplace=True)\n",
    "            print(bar.date)"
   ]
  },
  {
   "cell_type": "code",
   "execution_count": 3,
   "id": "76b98209",
   "metadata": {},
   "outputs": [
    {
     "name": "stderr",
     "output_type": "stream",
     "text": [
      "ERROR -1 2104 Market data farm connection is OK:usfarm.nj\n",
      "ERROR -1 2104 Market data farm connection is OK:hfarm\n",
      "ERROR -1 2104 Market data farm connection is OK:usfarm\n",
      "ERROR -1 2106 HMDS data farm connection is OK:euhmds\n",
      "ERROR -1 2106 HMDS data farm connection is OK:cashhmds\n",
      "ERROR -1 2106 HMDS data farm connection is OK:hkhmds\n",
      "ERROR -1 2106 HMDS data farm connection is OK:ushmds\n",
      "ERROR -1 2106 HMDS data farm connection is OK:fundfarm\n",
      "ERROR -1 2158 Sec-def data farm connection is OK:secdefhk\n"
     ]
    }
   ],
   "source": [
    "def run_loop():\n",
    "    app.run()\n",
    "    \n",
    "app = IBapi()\n",
    "app.connect('127.0.0.1', 7497,1123) #123 is a clientID\n",
    "\n",
    "\n",
    "#Start the socket in a thread\n",
    "api_thread = threading.Thread(target=run_loop, daemon=True)\n",
    "api_thread.start()\n",
    "\n",
    "time.sleep(1) #Sleep interval to allow time for connection to server\n",
    "\n"
   ]
  },
  {
   "cell_type": "code",
   "execution_count": 12,
   "id": "fa755675",
   "metadata": {},
   "outputs": [],
   "source": [
    "#Create contract object\n",
    "\n",
    "obj = Contract() # contract() is a method in the contract class\n",
    "obj.symbol = 'MARUTI' # name of the share\n",
    "obj.secType = 'STK' #'STK' #type of the CALL FUT or STk\n",
    "obj.exchange = 'NSE' #name of the exchange\n",
    "obj.currency = 'INR' \n",
    "# obj.lastTradeDateOrContractMonth = '20240229'\n",
    "# obj.strike = 22100\n",
    "# obj.right = 'C'"
   ]
  },
  {
   "cell_type": "code",
   "execution_count": 13,
   "id": "745a379f",
   "metadata": {},
   "outputs": [
    {
     "data": {
      "text/plain": [
       "1568079880272: 0,MARUTI,OPT,20240229,10300,C,,NSE,,INR,,,False,,combo:"
      ]
     },
     "execution_count": 13,
     "metadata": {},
     "output_type": "execute_result"
    }
   ],
   "source": [
    "obj"
   ]
  },
  {
   "cell_type": "code",
   "execution_count": 14,
   "id": "8024902f",
   "metadata": {},
   "outputs": [
    {
     "name": "stderr",
     "output_type": "stream",
     "text": [
      "ERROR 1 200 No security definition has been found for the request\n"
     ]
    }
   ],
   "source": [
    "app.reqHistoricalData(1, obj, \"\",\"1 D\", \"1 min\", \"TRADES\", 1, 1, False, [])\n",
    "time.sleep(5)\n"
   ]
  },
  {
   "cell_type": "code",
   "execution_count": 7,
   "id": "fb55af10",
   "metadata": {},
   "outputs": [
    {
     "data": {
      "text/html": [
       "<div>\n",
       "<style scoped>\n",
       "    .dataframe tbody tr th:only-of-type {\n",
       "        vertical-align: middle;\n",
       "    }\n",
       "\n",
       "    .dataframe tbody tr th {\n",
       "        vertical-align: top;\n",
       "    }\n",
       "\n",
       "    .dataframe thead th {\n",
       "        text-align: right;\n",
       "    }\n",
       "</style>\n",
       "<table border=\"1\" class=\"dataframe\">\n",
       "  <thead>\n",
       "    <tr style=\"text-align: right;\">\n",
       "      <th></th>\n",
       "      <th>Date</th>\n",
       "      <th>Open</th>\n",
       "      <th>High</th>\n",
       "      <th>Low</th>\n",
       "      <th>Close</th>\n",
       "      <th>Volume</th>\n",
       "    </tr>\n",
       "  </thead>\n",
       "  <tbody>\n",
       "    <tr>\n",
       "      <th>0</th>\n",
       "      <td>20231222  09:15:00</td>\n",
       "      <td>10049.85</td>\n",
       "      <td>10058.95</td>\n",
       "      <td>10037.95</td>\n",
       "      <td>10043.45</td>\n",
       "      <td>40</td>\n",
       "    </tr>\n",
       "    <tr>\n",
       "      <th>1</th>\n",
       "      <td>20231222  09:16:00</td>\n",
       "      <td>10046.75</td>\n",
       "      <td>10049.85</td>\n",
       "      <td>10031.3</td>\n",
       "      <td>10046.85</td>\n",
       "      <td>470</td>\n",
       "    </tr>\n",
       "    <tr>\n",
       "      <th>2</th>\n",
       "      <td>20231222  09:17:00</td>\n",
       "      <td>10042.45</td>\n",
       "      <td>10050.75</td>\n",
       "      <td>10036.15</td>\n",
       "      <td>10047.55</td>\n",
       "      <td>172</td>\n",
       "    </tr>\n",
       "    <tr>\n",
       "      <th>3</th>\n",
       "      <td>20231222  09:18:00</td>\n",
       "      <td>10050.35</td>\n",
       "      <td>10075.0</td>\n",
       "      <td>10050.3</td>\n",
       "      <td>10064.85</td>\n",
       "      <td>227</td>\n",
       "    </tr>\n",
       "    <tr>\n",
       "      <th>4</th>\n",
       "      <td>20231222  09:19:00</td>\n",
       "      <td>10067.35</td>\n",
       "      <td>10080.0</td>\n",
       "      <td>10065.7</td>\n",
       "      <td>10077.0</td>\n",
       "      <td>302</td>\n",
       "    </tr>\n",
       "    <tr>\n",
       "      <th>...</th>\n",
       "      <td>...</td>\n",
       "      <td>...</td>\n",
       "      <td>...</td>\n",
       "      <td>...</td>\n",
       "      <td>...</td>\n",
       "      <td>...</td>\n",
       "    </tr>\n",
       "    <tr>\n",
       "      <th>22495</th>\n",
       "      <td>20240320  15:25:00</td>\n",
       "      <td>11931.35</td>\n",
       "      <td>11943.6</td>\n",
       "      <td>11929.4</td>\n",
       "      <td>11930.0</td>\n",
       "      <td>283</td>\n",
       "    </tr>\n",
       "    <tr>\n",
       "      <th>22496</th>\n",
       "      <td>20240320  15:26:00</td>\n",
       "      <td>11930.3</td>\n",
       "      <td>11931.6</td>\n",
       "      <td>11925.0</td>\n",
       "      <td>11930.0</td>\n",
       "      <td>228</td>\n",
       "    </tr>\n",
       "    <tr>\n",
       "      <th>22497</th>\n",
       "      <td>20240320  15:27:00</td>\n",
       "      <td>11925.85</td>\n",
       "      <td>11950.1</td>\n",
       "      <td>11925.8</td>\n",
       "      <td>11927.0</td>\n",
       "      <td>221</td>\n",
       "    </tr>\n",
       "    <tr>\n",
       "      <th>22498</th>\n",
       "      <td>20240320  15:28:00</td>\n",
       "      <td>11930.1</td>\n",
       "      <td>11944.8</td>\n",
       "      <td>11925.0</td>\n",
       "      <td>11936.75</td>\n",
       "      <td>235</td>\n",
       "    </tr>\n",
       "    <tr>\n",
       "      <th>22499</th>\n",
       "      <td>20240320  15:29:00</td>\n",
       "      <td>11936.35</td>\n",
       "      <td>11939.0</td>\n",
       "      <td>11925.0</td>\n",
       "      <td>11925.25</td>\n",
       "      <td>204</td>\n",
       "    </tr>\n",
       "  </tbody>\n",
       "</table>\n",
       "<p>22500 rows × 6 columns</p>\n",
       "</div>"
      ],
      "text/plain": [
       "                     Date      Open      High       Low     Close Volume\n",
       "0      20231222  09:15:00  10049.85  10058.95  10037.95  10043.45     40\n",
       "1      20231222  09:16:00  10046.75  10049.85   10031.3  10046.85    470\n",
       "2      20231222  09:17:00  10042.45  10050.75  10036.15  10047.55    172\n",
       "3      20231222  09:18:00  10050.35   10075.0   10050.3  10064.85    227\n",
       "4      20231222  09:19:00  10067.35   10080.0   10065.7   10077.0    302\n",
       "...                   ...       ...       ...       ...       ...    ...\n",
       "22495  20240320  15:25:00  11931.35   11943.6   11929.4   11930.0    283\n",
       "22496  20240320  15:26:00   11930.3   11931.6   11925.0   11930.0    228\n",
       "22497  20240320  15:27:00  11925.85   11950.1   11925.8   11927.0    221\n",
       "22498  20240320  15:28:00   11930.1   11944.8   11925.0  11936.75    235\n",
       "22499  20240320  15:29:00  11936.35   11939.0   11925.0  11925.25    204\n",
       "\n",
       "[22500 rows x 6 columns]"
      ]
     },
     "execution_count": 7,
     "metadata": {},
     "output_type": "execute_result"
    }
   ],
   "source": [
    "app.data#.to_csv(r'C:\\Users\\Admin\\Desktop\\nifty_hourly_data2010-2023.csv', index=False)"
   ]
  },
  {
   "cell_type": "code",
   "execution_count": null,
   "id": "aa1a0c7f",
   "metadata": {},
   "outputs": [],
   "source": []
  },
  {
   "cell_type": "code",
   "execution_count": null,
   "id": "956ad4d5",
   "metadata": {},
   "outputs": [
    {
     "name": "stderr",
     "output_type": "stream",
     "text": [
      "ERROR -1 1100 Connectivity between IBKR and Trader Workstation has been lost.\n",
      "ERROR -1 1100 Connectivity between IBKR and Trader Workstation has been lost.\n",
      "ERROR -1 1100 Connectivity between IBKR and Trader Workstation has been lost.\n",
      "ERROR -1 1100 Connectivity between IBKR and Trader Workstation has been lost.\n",
      "ERROR -1 1100 Connectivity between IBKR and Trader Workstation has been lost.\n",
      "ERROR -1 1100 Connectivity between IBKR and Trader Workstation has been lost.\n",
      "ERROR -1 1100 Connectivity between IBKR and Trader Workstation has been lost.\n",
      "ERROR -1 1100 Connectivity between IBKR and Trader Workstation has been lost.\n",
      "ERROR -1 1100 Connectivity between IBKR and Trader Workstation has been lost.\n",
      "ERROR -1 1100 Connectivity between IBKR and Trader Workstation has been lost.\n",
      "ERROR -1 1100 Connectivity between IBKR and Trader Workstation has been lost.\n",
      "ERROR -1 1100 Connectivity between IBKR and Trader Workstation has been lost.\n",
      "ERROR -1 1102 Connectivity between IBKR and Trader Workstation has been restored - data maintained. All data farms are connected: usfarm.nj; hfarm; usfarm; euhmds; cashhmds; hkhmds; fundfarm; ushmds; secdefhk.\n"
     ]
    }
   ],
   "source": []
  },
  {
   "cell_type": "code",
   "execution_count": null,
   "id": "528fb1c4",
   "metadata": {},
   "outputs": [],
   "source": []
  }
 ],
 "metadata": {
  "kernelspec": {
   "display_name": "Python 3 (ipykernel)",
   "language": "python",
   "name": "python3"
  },
  "language_info": {
   "codemirror_mode": {
    "name": "ipython",
    "version": 3
   },
   "file_extension": ".py",
   "mimetype": "text/x-python",
   "name": "python",
   "nbconvert_exporter": "python",
   "pygments_lexer": "ipython3",
   "version": "3.10.4"
  }
 },
 "nbformat": 4,
 "nbformat_minor": 5
}
