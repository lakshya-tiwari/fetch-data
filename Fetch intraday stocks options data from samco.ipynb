{
 "cells": [
  {
   "cell_type": "markdown",
   "id": "52f5479c",
   "metadata": {},
   "source": [
    "### fetch intraday nifty stocks options data"
   ]
  },
  {
   "cell_type": "code",
   "execution_count": 1,
   "id": "f978ff86",
   "metadata": {
    "scrolled": true
   },
   "outputs": [
    {
     "ename": "KeyError",
     "evalue": "'sessionToken'",
     "output_type": "error",
     "traceback": [
      "\u001b[1;31m---------------------------------------------------------------------------\u001b[0m",
      "\u001b[1;31mKeyError\u001b[0m                                  Traceback (most recent call last)",
      "Input \u001b[1;32mIn [1]\u001b[0m, in \u001b[0;36m<cell line: 11>\u001b[1;34m()\u001b[0m\n\u001b[0;32m      9\u001b[0m samco\u001b[38;5;241m=\u001b[39mStocknoteAPIPythonBridge()\n\u001b[0;32m     10\u001b[0m login\u001b[38;5;241m=\u001b[39mjson\u001b[38;5;241m.\u001b[39mloads(samco\u001b[38;5;241m.\u001b[39mlogin(body\u001b[38;5;241m=\u001b[39m{\u001b[38;5;124m\"\u001b[39m\u001b[38;5;124muserId\u001b[39m\u001b[38;5;124m\"\u001b[39m:\u001b[38;5;124m'\u001b[39m\u001b[38;5;124mDA47853\u001b[39m\u001b[38;5;124m'\u001b[39m,\u001b[38;5;124m'\u001b[39m\u001b[38;5;124mpassword\u001b[39m\u001b[38;5;124m'\u001b[39m:\u001b[38;5;124m'\u001b[39m\u001b[38;5;124mBharat@11\u001b[39m\u001b[38;5;124m'\u001b[39m,\u001b[38;5;124m'\u001b[39m\u001b[38;5;124myob\u001b[39m\u001b[38;5;124m'\u001b[39m:\u001b[38;5;124m'\u001b[39m\u001b[38;5;124m1984\u001b[39m\u001b[38;5;124m'\u001b[39m}))\n\u001b[1;32m---> 11\u001b[0m samco\u001b[38;5;241m.\u001b[39mset_session_token(sessionToken\u001b[38;5;241m=\u001b[39m\u001b[43mlogin\u001b[49m\u001b[43m[\u001b[49m\u001b[38;5;124;43m'\u001b[39;49m\u001b[38;5;124;43msessionToken\u001b[39;49m\u001b[38;5;124;43m'\u001b[39;49m\u001b[43m]\u001b[49m)\n\u001b[0;32m     14\u001b[0m nifty50_list \u001b[38;5;241m=\u001b[39m [\u001b[38;5;124m'\u001b[39m\u001b[38;5;124mUPL\u001b[39m\u001b[38;5;124m'\u001b[39m,\u001b[38;5;124m'\u001b[39m\u001b[38;5;124mTATACONSUM\u001b[39m\u001b[38;5;124m'\u001b[39m,\u001b[38;5;124m'\u001b[39m\u001b[38;5;124mASIANPAINT\u001b[39m\u001b[38;5;124m'\u001b[39m,\u001b[38;5;124m'\u001b[39m\u001b[38;5;124mAPOLLOHOSP\u001b[39m\u001b[38;5;124m'\u001b[39m,\u001b[38;5;124m'\u001b[39m\u001b[38;5;124mDIVISLAB\u001b[39m\u001b[38;5;124m'\u001b[39m,\u001b[38;5;124m'\u001b[39m\u001b[38;5;124mTITAN\u001b[39m\u001b[38;5;124m'\u001b[39m,\u001b[38;5;124m'\u001b[39m\u001b[38;5;124mHCLTECH\u001b[39m\u001b[38;5;124m'\u001b[39m,\u001b[38;5;124m'\u001b[39m\u001b[38;5;124mCOALINDIA\u001b[39m\u001b[38;5;124m'\u001b[39m,\u001b[38;5;124m'\u001b[39m\u001b[38;5;124mJSWSTEEL\u001b[39m\u001b[38;5;124m'\u001b[39m,\u001b[38;5;124m'\u001b[39m\u001b[38;5;124mTCS\u001b[39m\u001b[38;5;124m'\u001b[39m,\u001b[38;5;124m'\u001b[39m\u001b[38;5;124mTATAMOTORS\u001b[39m\u001b[38;5;124m'\u001b[39m,\u001b[38;5;124m'\u001b[39m\u001b[38;5;124mHINDALCO\u001b[39m\u001b[38;5;124m'\u001b[39m,\n\u001b[0;32m     15\u001b[0m \u001b[38;5;124m'\u001b[39m\u001b[38;5;124mBAJAJ-AUTO\u001b[39m\u001b[38;5;124m'\u001b[39m,\u001b[38;5;124m'\u001b[39m\u001b[38;5;124mICICIBANK\u001b[39m\u001b[38;5;124m'\u001b[39m,\u001b[38;5;124m'\u001b[39m\u001b[38;5;124mADANIENT\u001b[39m\u001b[38;5;124m'\u001b[39m,\u001b[38;5;124m'\u001b[39m\u001b[38;5;124mTATASTEEL\u001b[39m\u001b[38;5;124m'\u001b[39m,\u001b[38;5;124m'\u001b[39m\u001b[38;5;124mBAJFINANCE\u001b[39m\u001b[38;5;124m'\u001b[39m,\u001b[38;5;124m'\u001b[39m\u001b[38;5;124mINDUSINDBK\u001b[39m\u001b[38;5;124m'\u001b[39m,\u001b[38;5;124m'\u001b[39m\u001b[38;5;124mNESTLEIND\u001b[39m\u001b[38;5;124m'\u001b[39m,\u001b[38;5;124m'\u001b[39m\u001b[38;5;124mLT\u001b[39m\u001b[38;5;124m'\u001b[39m,\u001b[38;5;124m'\u001b[39m\u001b[38;5;124mGRASIM\u001b[39m\u001b[38;5;124m'\u001b[39m,\u001b[38;5;124m'\u001b[39m\u001b[38;5;124mPOWERGRID\u001b[39m\u001b[38;5;124m'\u001b[39m,\u001b[38;5;124m'\u001b[39m\u001b[38;5;124mCIPLA\u001b[39m\u001b[38;5;124m'\u001b[39m,\u001b[38;5;124m'\u001b[39m\u001b[38;5;124mAXISBANK\u001b[39m\u001b[38;5;124m'\u001b[39m,\u001b[38;5;124m'\u001b[39m\u001b[38;5;124mBHARTIARTL\u001b[39m\u001b[38;5;124m'\u001b[39m,\n\u001b[0;32m     16\u001b[0m \u001b[38;5;124m'\u001b[39m\u001b[38;5;124mHDFCBANK\u001b[39m\u001b[38;5;124m'\u001b[39m,\u001b[38;5;124m'\u001b[39m\u001b[38;5;124mDRREDDY\u001b[39m\u001b[38;5;124m'\u001b[39m,\u001b[38;5;124m'\u001b[39m\u001b[38;5;124mADANIPORTS\u001b[39m\u001b[38;5;124m'\u001b[39m,\u001b[38;5;124m'\u001b[39m\u001b[38;5;124mITC\u001b[39m\u001b[38;5;124m'\u001b[39m,\u001b[38;5;124m'\u001b[39m\u001b[38;5;124mMARUTI\u001b[39m\u001b[38;5;124m'\u001b[39m,\u001b[38;5;124m'\u001b[39m\u001b[38;5;124mULTRACEMCO\u001b[39m\u001b[38;5;124m'\u001b[39m,\u001b[38;5;124m'\u001b[39m\u001b[38;5;124mRELIANCE\u001b[39m\u001b[38;5;124m'\u001b[39m,\u001b[38;5;124m'\u001b[39m\u001b[38;5;124mSBIN\u001b[39m\u001b[38;5;124m'\u001b[39m,\u001b[38;5;124m'\u001b[39m\u001b[38;5;124mBAJAJFINSV\u001b[39m\u001b[38;5;124m'\u001b[39m,\u001b[38;5;124m'\u001b[39m\u001b[38;5;124mM&M\u001b[39m\u001b[38;5;124m'\u001b[39m,\u001b[38;5;124m'\u001b[39m\u001b[38;5;124mONGC\u001b[39m\u001b[38;5;124m'\u001b[39m,\u001b[38;5;124m'\u001b[39m\u001b[38;5;124mWIPRO\u001b[39m\u001b[38;5;124m'\u001b[39m,\u001b[38;5;124m'\u001b[39m\u001b[38;5;124mHDFCLIFE\u001b[39m\u001b[38;5;124m'\u001b[39m,\n\u001b[0;32m     17\u001b[0m \u001b[38;5;124m'\u001b[39m\u001b[38;5;124mHEROMOTOCO\u001b[39m\u001b[38;5;124m'\u001b[39m,\u001b[38;5;124m'\u001b[39m\u001b[38;5;124mBPCL\u001b[39m\u001b[38;5;124m'\u001b[39m,\u001b[38;5;124m'\u001b[39m\u001b[38;5;124mSUNPHARMA\u001b[39m\u001b[38;5;124m'\u001b[39m,\u001b[38;5;124m'\u001b[39m\u001b[38;5;124mHINDUNILVR\u001b[39m\u001b[38;5;124m'\u001b[39m,\u001b[38;5;124m'\u001b[39m\u001b[38;5;124mHDFC\u001b[39m\u001b[38;5;124m'\u001b[39m,\u001b[38;5;124m'\u001b[39m\u001b[38;5;124mNTPC\u001b[39m\u001b[38;5;124m'\u001b[39m,\u001b[38;5;124m'\u001b[39m\u001b[38;5;124mSBILIFE\u001b[39m\u001b[38;5;124m'\u001b[39m,\u001b[38;5;124m'\u001b[39m\u001b[38;5;124mTECHM\u001b[39m\u001b[38;5;124m'\u001b[39m,\u001b[38;5;124m'\u001b[39m\u001b[38;5;124mEICHERMOT\u001b[39m\u001b[38;5;124m'\u001b[39m,\u001b[38;5;124m'\u001b[39m\u001b[38;5;124mKOTAKBANK\u001b[39m\u001b[38;5;124m'\u001b[39m,\u001b[38;5;124m'\u001b[39m\u001b[38;5;124mBRITANNIA\u001b[39m\u001b[38;5;124m'\u001b[39m,\u001b[38;5;124m'\u001b[39m\u001b[38;5;124mINFY\u001b[39m\u001b[38;5;124m'\u001b[39m]\n\u001b[0;32m     20\u001b[0m \u001b[38;5;28;01mfor\u001b[39;00m stock \u001b[38;5;129;01min\u001b[39;00m nifty50_list:\n",
      "\u001b[1;31mKeyError\u001b[0m: 'sessionToken'"
     ]
    }
   ],
   "source": [
    "from snapi_py_client.snapi_bridge import StocknoteAPIPythonBridge\n",
    "import json \n",
    "\n",
    "import pandas as pd\n",
    "import numpy as np\n",
    "from datetime import datetime, date, timedelta, time\n",
    "import time as Time\n",
    "\n",
    "samco=StocknoteAPIPythonBridge()\n",
    "login=json.loads(samco.login(body={\"userId\":'DA47853','password':'Bharat@11','yob':'1984'}))\n",
    "samco.set_session_token(sessionToken=login['sessionToken'])\n",
    "\n",
    "\n",
    "nifty50_list = ['UPL','TATACONSUM','ASIANPAINT','APOLLOHOSP','DIVISLAB','TITAN','HCLTECH','COALINDIA','JSWSTEEL','TCS','TATAMOTORS','HINDALCO',\n",
    "'BAJAJ-AUTO','ICICIBANK','ADANIENT','TATASTEEL','BAJFINANCE','INDUSINDBK','NESTLEIND','LT','GRASIM','POWERGRID','CIPLA','AXISBANK','BHARTIARTL',\n",
    "'HDFCBANK','DRREDDY','ADANIPORTS','ITC','MARUTI','ULTRACEMCO','RELIANCE','SBIN','BAJAJFINSV','M&M','ONGC','WIPRO','HDFCLIFE',\n",
    "'HEROMOTOCO','BPCL','SUNPHARMA','HINDUNILVR','HDFC','NTPC','SBILIFE','TECHM','EICHERMOT','KOTAKBANK','BRITANNIA','INFY']\n",
    "\n",
    "\n",
    "for stock in nifty50_list:\n",
    "\n",
    "    option_chain = pd.DataFrame(json.loads(samco.get_option_chain(search_symbol_name=stock,exchange=samco.EXCHANGE_NFO))['optionChainDetails'])\n",
    "\n",
    "    symbols = option_chain[option_chain['lastTradedPrice']!='0.00']['tradingSymbol'].unique()\n",
    "\n",
    "    main_data = pd.DataFrame()\n",
    "\n",
    "    start_date = str(date.today())+' 09:15:00'\n",
    "    end_date = str(date.today())+' 15:30:00'\n",
    "\n",
    "    for i in symbols:\n",
    "        print(i)\n",
    "\n",
    "        try:\n",
    "            data = pd.DataFrame(json.loads(samco.get_intraday_candle_data(symbol_name=i,exchange=samco.EXCHANGE_NFO, from_date=start_date, to_date=end_date))['intradayCandleData'])\n",
    "            data['symbol']=i   #'NIFTY05JAN2318300CE'\n",
    "            main_data = pd.concat([main_data,data],axis=0)\n",
    "        except:\n",
    "            continue\n",
    "\n",
    "\n",
    "    main_data['dateTime'] = pd.to_datetime(main_data['dateTime'])\n",
    "    main_data.sort_values(by='dateTime',inplace=True)\n",
    "\n",
    "    path = f'E:\\option_data\\STOCK\\{stock}\\data_'\n",
    "    dates = path+str(date.today())+'.csv'\n",
    "\n",
    "    main_data.to_csv(dates,index=False)"
   ]
  },
  {
   "cell_type": "code",
   "execution_count": null,
   "id": "4d860d63",
   "metadata": {},
   "outputs": [],
   "source": []
  },
  {
   "cell_type": "code",
   "execution_count": null,
   "id": "67d40814",
   "metadata": {},
   "outputs": [],
   "source": []
  }
 ],
 "metadata": {
  "kernelspec": {
   "display_name": "Python 3 (ipykernel)",
   "language": "python",
   "name": "python3"
  },
  "language_info": {
   "codemirror_mode": {
    "name": "ipython",
    "version": 3
   },
   "file_extension": ".py",
   "mimetype": "text/x-python",
   "name": "python",
   "nbconvert_exporter": "python",
   "pygments_lexer": "ipython3",
   "version": "3.10.4"
  }
 },
 "nbformat": 4,
 "nbformat_minor": 5
}
